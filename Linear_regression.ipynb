{
  "nbformat": 4,
  "nbformat_minor": 0,
  "metadata": {
    "kernelspec": {
      "display_name": "Python 3",
      "language": "python",
      "name": "python3"
    },
    "language_info": {
      "codemirror_mode": {
        "name": "ipython",
        "version": 3
      },
      "file_extension": ".py",
      "mimetype": "text/x-python",
      "name": "python",
      "nbconvert_exporter": "python",
      "pygments_lexer": "ipython3",
      "version": "3.7.4"
    },
    "colab": {
      "name": "Linear_regression.ipynb",
      "provenance": []
    }
  },
  "cells": [
    {
      "cell_type": "code",
      "metadata": {
        "id": "1ujmv2Iaikw8"
      },
      "source": [
        "import numpy as np \n",
        "import matplotlib.pyplot as plt"
      ],
      "execution_count": null,
      "outputs": []
    },
    {
      "cell_type": "code",
      "metadata": {
        "id": "RV14Tl_eikxD"
      },
      "source": [
        "x_points = np.array([[1,1,2,3,4,5,6,7,8,9,10,11]]) \n",
        "y_points = np.array([[1,2,3,1,4,5,6,4,7,10,15,9]]) "
      ],
      "execution_count": null,
      "outputs": []
    },
    {
      "cell_type": "code",
      "metadata": {
        "id": "9emA6SbqikxE"
      },
      "source": [
        "m = x_points.shape[1]"
      ],
      "execution_count": null,
      "outputs": []
    },
    {
      "cell_type": "code",
      "metadata": {
        "id": "8ivd0C2qikxF"
      },
      "source": [
        "theta0 = 0\n",
        "theta1 = np.random.randn(1,1) * 0.01\n",
        "y_predicted = (theta1 * x_points) + theta0\n",
        "error = y_predicted - y_points\n",
        "iteration = 0\n",
        "error\n",
        "learning_rate = 0.001\n",
        "cost_list = []"
      ],
      "execution_count": null,
      "outputs": []
    },
    {
      "cell_type": "code",
      "metadata": {
        "id": "7L5Ha8YJikxG"
      },
      "source": [
        "while(iteration <= 500):\n",
        "    cost = (np.sum(error)**2) / 2 * m\n",
        "    cost_list.append(cost)\n",
        "    theta0 = theta0 - (learning_rate * (np.sum(error)/ m))\n",
        "    theta1 = theta1 - (learning_rate * (np.sum(error * x_points) / m))\n",
        "    y_predicted = (theta1 * x_points) + theta0\n",
        "    error = y_predicted - y_points\n",
        "    iteration += 1"
      ],
      "execution_count": null,
      "outputs": []
    },
    {
      "cell_type": "code",
      "metadata": {
        "id": "FuwFoLEoikxG",
        "outputId": "75888749-d229-4ece-f61f-deccacb2e258"
      },
      "source": [
        "x = list(range(0, 501))\n",
        "plt.plot(x, cost_list)\n",
        "plt.xlabel('Epochs')\n",
        "plt.ylabel('cost')\n",
        "plt.title('Model cost vs Epochs')"
      ],
      "execution_count": null,
      "outputs": [
        {
          "data": {
            "text/plain": [
              "Text(0.5, 1.0, 'Model cost vs Epochs')"
            ]
          },
          "execution_count": 6,
          "metadata": {},
          "output_type": "execute_result"
        },
        {
          "data": {
            "image/png": "[encoded data removed]",
            "text/plain": [
              "<Figure size 432x288 with 1 Axes>"
            ]
          },
          "metadata": {
            "needs_background": "light"
          },
          "output_type": "display_data"
        }
      ]
    },
    {
      "cell_type": "code",
      "metadata": {
        "id": "R14ajXgtikxI"
      },
      "source": [
        "final_predicted_y = (theta1 * x_points) + theta0"
      ],
      "execution_count": null,
      "outputs": []
    },
    {
      "cell_type": "code",
      "metadata": {
        "id": "Dx6THoOSikxK",
        "outputId": "64875007-cc11-4009-b202-95081533b14f"
      },
      "source": [
        "plt.figure(figsize=(6, 6))\n",
        "ax = plt.axes()\n",
        "plt.scatter(x_points, y_points)\n",
        "plt.plot(x_points[0], final_predicted_y[0])\n",
        "plt.xlabel('X')\n",
        "plt.ylabel('Y')\n",
        "plt.title('X vs Y')\n",
        "plt.show()"
      ],
      "execution_count": null,
      "outputs": [
        {
          "data": {
            "image/png": "[encoded data removed]",
            "text/plain": [
              "<Figure size 432x432 with 1 Axes>"
            ]
          },
          "metadata": {
            "needs_background": "light"
          },
          "output_type": "display_data"
        }
      ]
    },
    {
      "cell_type": "markdown",
      "metadata": {
        "id": "BKSw1LctikxL"
      },
      "source": [
        "How to import NumPy library.\n",
        "\n",
        "Matrices and vectors operations using NumPy.\n",
        "\n",
        "How to import matplotlib.pyplot.\n",
        "\n",
        "How to make matplotlib inline.\n",
        "\n",
        "How to read data from csv file to NumPy array.\n",
        "\n",
        "How to select a specific column from NumPy array (very important).\n",
        "\n",
        "Using Matplotlib Scatter plot to plot (x,y) data.\n",
        "\n",
        "Using Matplotlib to plot a straight line.\n",
        "\n",
        "Using r2 score from sklearn.metrics to evaluate prediction performance."
      ]
    },
    {
      "cell_type": "code",
      "metadata": {
        "id": "ufnRdw5OikxO"
      },
      "source": [
        "#How to import NumPy library\n",
        "import numpy as np"
      ],
      "execution_count": null,
      "outputs": []
    },
    {
      "cell_type": "code",
      "metadata": {
        "id": "pV1n7ZW_ikxP",
        "outputId": "2c5154f6-ac0c-4d5d-c010-a30440e09869"
      },
      "source": [
        "#Matrices and vectors operations using NumPy\n",
        "m1 = np.array([[1,2],[3,4]])\n",
        "m2 = np.array([[10,20],[5,6]])\n",
        "print(m1)\n",
        "print(m2)\n",
        "print(m1 * m2)\n",
        "print(m1 + m2)\n",
        "print(m1 / m2)\n",
        "print(m1 - m2)"
      ],
      "execution_count": null,
      "outputs": [
        {
          "name": "stdout",
          "output_type": "stream",
          "text": [
            "[[1 2]\n",
            " [3 4]]\n",
            "[[10 20]\n",
            " [ 5  6]]\n",
            "[[10 40]\n",
            " [15 24]]\n",
            "[[11 22]\n",
            " [ 8 10]]\n",
            "[[0.1        0.1       ]\n",
            " [0.6        0.66666667]]\n",
            "[[ -9 -18]\n",
            " [ -2  -2]]\n"
          ]
        }
      ]
    },
    {
      "cell_type": "code",
      "metadata": {
        "id": "AZMOMAnJikxQ",
        "outputId": "b0cbb416-e24b-4e59-a294-b76f19c1f7d4"
      },
      "source": [
        "vector_a = np.array([1,2,3])\n",
        "vector_b = np.array([4,5,6])\n",
        "# dot product\n",
        "np.dot(vector_a, vector_b)"
      ],
      "execution_count": null,
      "outputs": [
        {
          "data": {
            "text/plain": [
              "32"
            ]
          },
          "execution_count": 11,
          "metadata": {},
          "output_type": "execute_result"
        }
      ]
    },
    {
      "cell_type": "code",
      "metadata": {
        "id": "csE0iDlXikxR",
        "outputId": "276c1471-ea6d-4680-c89b-73cba07ca3d3"
      },
      "source": [
        "np.zeros(2)"
      ],
      "execution_count": null,
      "outputs": [
        {
          "data": {
            "text/plain": [
              "array([0., 0.])"
            ]
          },
          "execution_count": 12,
          "metadata": {},
          "output_type": "execute_result"
        }
      ]
    },
    {
      "cell_type": "code",
      "metadata": {
        "id": "hPqWcF0qikxS",
        "outputId": "0a118ba0-8377-44b1-8cf2-adc74f2d471d"
      },
      "source": [
        "np.ones(3)"
      ],
      "execution_count": null,
      "outputs": [
        {
          "data": {
            "text/plain": [
              "array([1., 1., 1.])"
            ]
          },
          "execution_count": 13,
          "metadata": {},
          "output_type": "execute_result"
        }
      ]
    },
    {
      "cell_type": "code",
      "metadata": {
        "id": "JF_vJqKiikxT"
      },
      "source": [
        "#How to import matplotlib.pyplot.\n",
        "import matplotlib.pyplot as plt"
      ],
      "execution_count": null,
      "outputs": []
    },
    {
      "cell_type": "code",
      "metadata": {
        "id": "Crl9Nic-ikxT"
      },
      "source": [
        "# How to make matplotlib inline to sets up matplotlib's interactive mode\n",
        "%matplotlib inline\n",
        "import matplotlib.pyplot as plt"
      ],
      "execution_count": null,
      "outputs": []
    },
    {
      "cell_type": "code",
      "metadata": {
        "id": "qM8py4u4ikxU",
        "outputId": "68a54bc1-5cc2-4fc7-8669-a98bc8c6541c"
      },
      "source": [
        "#How to read data from csv file to NumPy array.\n",
        "import pandas as pd\n",
        "\n",
        "df = pd.read_csv (r'D:\\Online Courses Certificates\\Book_csv.csv')\n",
        "arr = df.to_numpy()\n",
        "print (arr)"
      ],
      "execution_count": null,
      "outputs": [
        {
          "name": "stdout",
          "output_type": "stream",
          "text": [
            "[['b1' 31 'a1']\n",
            " ['b2' 35 'a2']\n",
            " ['b3' 40 'a3']\n",
            " ['b4' 45 'a4']\n",
            " ['b5' 47 'a5']\n",
            " ['b6' 50 'a6']]\n"
          ]
        }
      ]
    },
    {
      "cell_type": "code",
      "metadata": {
        "id": "bMmP6zTYikxU",
        "outputId": "727baea3-f73b-491f-8a6c-52362186fdf9"
      },
      "source": [
        "#How to select a specific column from NumPy array (very important).\n",
        "arr[:,1]"
      ],
      "execution_count": null,
      "outputs": [
        {
          "data": {
            "text/plain": [
              "array([31, 35, 40, 45, 47, 50], dtype=object)"
            ]
          },
          "execution_count": 17,
          "metadata": {},
          "output_type": "execute_result"
        }
      ]
    },
    {
      "cell_type": "code",
      "metadata": {
        "id": "HGa8IWNKikxV",
        "outputId": "dc163601-48ee-4d6d-f924-9880e5ae283d"
      },
      "source": [
        "#Using Matplotlib Scatter plot to plot (x,y) data.\n",
        "plt.scatter(x_points, y_points)"
      ],
      "execution_count": null,
      "outputs": [
        {
          "data": {
            "text/plain": [
              "<matplotlib.collections.PathCollection at 0x19452ed5c08>"
            ]
          },
          "execution_count": 18,
          "metadata": {},
          "output_type": "execute_result"
        },
        {
          "data": {
            "image/png": "[encoded data removed]",
            "text/plain": [
              "<Figure size 432x288 with 1 Axes>"
            ]
          },
          "metadata": {
            "needs_background": "light"
          },
          "output_type": "display_data"
        }
      ]
    },
    {
      "cell_type": "code",
      "metadata": {
        "id": "Oq976R7qikxW",
        "outputId": "b11e7523-5b85-4f79-e461-86c261f91d8e"
      },
      "source": [
        "#Using Matplotlib to plot a straight line.\n",
        "plt.plot(x_points[0], final_predicted_y[0])\n"
      ],
      "execution_count": null,
      "outputs": [
        {
          "data": {
            "text/plain": [
              "[<matplotlib.lines.Line2D at 0x19452f33e48>]"
            ]
          },
          "execution_count": 19,
          "metadata": {},
          "output_type": "execute_result"
        },
        {
          "data": {
            "image/png": "[encoded data removed]",
            "text/plain": [
              "<Figure size 432x288 with 1 Axes>"
            ]
          },
          "metadata": {
            "needs_background": "light"
          },
          "output_type": "display_data"
        }
      ]
    },
    {
      "cell_type": "code",
      "metadata": {
        "id": "I88sBLN8ikxW",
        "outputId": "1e864ed8-3a9c-48fb-b3cc-222a92ff57fd"
      },
      "source": [
        "#Using r2 score from sklearn.metrics to evaluate prediction performance.\n",
        "from sklearn.metrics import r2_score\n",
        "r2_score(y_points[0],final_predicted_y[0])"
      ],
      "execution_count": null,
      "outputs": [
        {
          "data": {
            "text/plain": [
              "0.7559996514622493"
            ]
          },
          "execution_count": 20,
          "metadata": {},
          "output_type": "execute_result"
        }
      ]
    },
    {
      "cell_type": "code",
      "metadata": {
        "id": "ckB-3jX1ikxX"
      },
      "source": [
        ""
      ],
      "execution_count": null,
      "outputs": []
    }
  ]
}