{
  "nbformat": 4,
  "nbformat_minor": 0,
  "metadata": {
    "kernelspec": {
      "display_name": "Python 3",
      "language": "python",
      "name": "python3"
    },
    "language_info": {
      "codemirror_mode": {
        "name": "ipython",
        "version": 3
      },
      "file_extension": ".py",
      "mimetype": "text/x-python",
      "name": "python",
      "nbconvert_exporter": "python",
      "pygments_lexer": "ipython3",
      "version": "3.7.4"
    },
    "colab": {
      "name": "Newton.ipynb",
      "provenance": []
    }
  },
  "cells": [
    {
      "cell_type": "code",
      "metadata": {
        "id": "uTMDeIRDhiB0"
      },
      "source": [
        "from sympy import *\n",
        "import math\n",
        "x = Symbol('x')"
      ],
      "execution_count": null,
      "outputs": []
    },
    {
      "cell_type": "code",
      "metadata": {
        "id": "Fivafk_HhiCH"
      },
      "source": [
        "def function_sol_newton(function,initial_value):\n",
        "    iteration = 0\n",
        "    y = function\n",
        "    yd = y.diff(x)\n",
        "    x_value = initial_value\n",
        "    new_f = float(y.subs(x, x_value))\n",
        "    new_yd = float(yd.subs(x,x_value))\n",
        "    error = float(y.subs(x, initial_value))\n",
        "    print(\"----------------------------------------------------\")\n",
        "    print(\"n = \" + str(iteration) + \" | \"+ \"x = \" + str(round(x_value,6)) + \"|\" + \" f(x) = \" + str(round(new_f,6))+ \" | \" + \" f'(x) = \" + str(round(new_yd,6)))\n",
        "    while(iteration <= 50 and abs(error) > 1e-06):\n",
        "        x_value = float(x_value - (new_f / new_yd))\n",
        "        new_f = float(y.subs(x, x_value))\n",
        "        new_yd = float(yd.subs(x,x_value))\n",
        "        error = float(y.subs(x, x_value))\n",
        "        iteration += 1\n",
        "        print(\"----------------------------------------------------\")\n",
        "        print(\"n = \" + str(iteration) + \" | \"+ \"x = \" + str(round(x_value,6)) + \"|\" + \" f(x) = \" + str(round(new_f,6)) + \" | \" + \" f'(x) = \" + str(round(new_yd,6)))\n",
        "        \n",
        "    if(iteration <= 50):\n",
        "        \n",
        "        return x_value\n",
        "    else:\n",
        "        return \"Can not converge\"\n",
        "        "
      ],
      "execution_count": null,
      "outputs": []
    },
    {
      "cell_type": "code",
      "metadata": {
        "id": "goaajJW6hiCL",
        "outputId": "6f188176-50d6-4974-e9b4-f9fe47f4e922"
      },
      "source": [
        "f = x**2 - x -1\n",
        "fd = f.diff(x)\n",
        "print(\"f(x) = \",f)\n",
        "print(\"f'(x) = \",fd)\n",
        "print(\"{:.6f}\".format(float(function_sol_newton(f,1))))"
      ],
      "execution_count": null,
      "outputs": [
        {
          "name": "stdout",
          "output_type": "stream",
          "text": [
            "f(x) =  x**2 - x - 1\n",
            "f'(x) =  2*x - 1\n",
            "----------------------------------------------------\n",
            "n = 0 | x = 1| f(x) = -1.0 |  f'(x) = 1.0\n",
            "----------------------------------------------------\n",
            "n = 1 | x = 2.0| f(x) = 1.0 |  f'(x) = 3.0\n",
            "----------------------------------------------------\n",
            "n = 2 | x = 1.666667| f(x) = 0.111111 |  f'(x) = 2.333333\n",
            "----------------------------------------------------\n",
            "n = 3 | x = 1.619048| f(x) = 0.002268 |  f'(x) = 2.238095\n",
            "----------------------------------------------------\n",
            "n = 4 | x = 1.618034| f(x) = 1e-06 |  f'(x) = 2.236069\n",
            "----------------------------------------------------\n",
            "n = 5 | x = 1.618034| f(x) = 0.0 |  f'(x) = 2.236068\n",
            "1.618034\n"
          ]
        }
      ]
    },
    {
      "cell_type": "code",
      "metadata": {
        "id": "WOAEJwh4hiCP",
        "outputId": "381b938e-2ed7-47e0-dc25-a24632c7596e"
      },
      "source": [
        "f = x**3 - 7*(x**2) + 8*x - 3\n",
        "fd = f.diff(x)\n",
        "print(\"f(x) = \",f)\n",
        "print(\"f'(x) = \",fd)\n",
        "print(\"{:.6f}\".format(float(function_sol_newton(f,5))))"
      ],
      "execution_count": null,
      "outputs": [
        {
          "name": "stdout",
          "output_type": "stream",
          "text": [
            "f(x) =  x**3 - 7*x**2 + 8*x - 3\n",
            "f'(x) =  3*x**2 - 14*x + 8\n",
            "----------------------------------------------------\n",
            "n = 0 | x = 5| f(x) = -13.0 |  f'(x) = 13.0\n",
            "----------------------------------------------------\n",
            "n = 1 | x = 6.0| f(x) = 9.0 |  f'(x) = 32.0\n",
            "----------------------------------------------------\n",
            "n = 2 | x = 5.71875| f(x) = 0.84787 |  f'(x) = 26.049805\n",
            "----------------------------------------------------\n",
            "n = 3 | x = 5.686202| f(x) = 0.010725 |  f'(x) = 25.391851\n",
            "----------------------------------------------------\n",
            "n = 4 | x = 5.68578| f(x) = 2e-06 |  f'(x) = 25.383355\n",
            "----------------------------------------------------\n",
            "n = 5 | x = 5.68578| f(x) = 0.0 |  f'(x) = 25.383353\n",
            "5.685780\n"
          ]
        }
      ]
    },
    {
      "cell_type": "code",
      "metadata": {
        "id": "8v2C9x8QhiCQ",
        "outputId": "212a7c49-b91b-4903-dac2-b5860d41c1ca"
      },
      "source": [
        "f = x* cos(x) - (x**2) \n",
        "fd = f.diff(x)\n",
        "print(\"f(x) = \",f)\n",
        "print(\"f'(x) = \",fd)\n",
        "print(\"{:.6f}\".format(float(function_sol_newton(f,1))))"
      ],
      "execution_count": null,
      "outputs": [
        {
          "name": "stdout",
          "output_type": "stream",
          "text": [
            "f(x) =  -x**2 + x*cos(x)\n",
            "f'(x) =  -x*sin(x) - 2*x + cos(x)\n",
            "----------------------------------------------------\n",
            "n = 0 | x = 1| f(x) = -0.459698 |  f'(x) = -2.301169\n",
            "----------------------------------------------------\n",
            "n = 1 | x = 0.800233| f(x) = -0.082979 |  f'(x) = -1.478108\n",
            "----------------------------------------------------\n",
            "n = 2 | x = 0.744094| f(x) = -0.006245 |  f'(x) = -1.256467\n",
            "----------------------------------------------------\n",
            "n = 3 | x = 0.739124| f(x) = -4.8e-05 |  f'(x) = -1.237093\n",
            "----------------------------------------------------\n",
            "n = 4 | x = 0.739085| f(x) = -0.0 |  f'(x) = -1.236942\n",
            "0.739085\n"
          ]
        }
      ]
    },
    {
      "cell_type": "code",
      "metadata": {
        "id": "Je18rv8NhiCS"
      },
      "source": [
        ""
      ],
      "execution_count": null,
      "outputs": []
    }
  ]
}